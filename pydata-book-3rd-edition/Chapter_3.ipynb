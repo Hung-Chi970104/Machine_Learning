{
 "cells": [
  {
   "cell_type": "markdown",
   "id": "ee2a6da6-82bf-48cc-97e6-b8430cc5c5f4",
   "metadata": {
    "jp-MarkdownHeadingCollapsed": true
   },
   "source": [
    "# Tuple"
   ]
  },
  {
   "cell_type": "code",
   "execution_count": 7,
   "id": "a040fa45-986c-465b-8fe5-454bc012f4fa",
   "metadata": {},
   "outputs": [],
   "source": [
    "seq = [(1,2,3), (4,5,6), (7,8,9)]"
   ]
  },
  {
   "cell_type": "code",
   "execution_count": 8,
   "id": "772de2b8-c772-42e8-8fa4-ebc823f384cb",
   "metadata": {},
   "outputs": [
    {
     "name": "stdout",
     "output_type": "stream",
     "text": [
      "a=1, b=2, c=3\n",
      "a=4, b=5, c=6\n",
      "a=7, b=8, c=9\n"
     ]
    }
   ],
   "source": [
    "for a,b,c in seq:\n",
    "    print(f\"a={a}, b={b}, c={c}\")"
   ]
  },
  {
   "cell_type": "markdown",
   "id": "903a2de8-b440-4d47-837a-16e443255f83",
   "metadata": {},
   "source": [
    "### Assigning values using rest"
   ]
  },
  {
   "cell_type": "code",
   "execution_count": 9,
   "id": "c5d41aa5-b9cc-4f57-84ea-ec5deb2300fc",
   "metadata": {},
   "outputs": [],
   "source": [
    "values = 1,2,3,4,5\n",
    "a,b,*rest = values"
   ]
  },
  {
   "cell_type": "code",
   "execution_count": 10,
   "id": "67e55a5a-60f1-49c0-8ad1-4629fefe2d0c",
   "metadata": {},
   "outputs": [
    {
     "data": {
      "text/plain": [
       "1"
      ]
     },
     "execution_count": 10,
     "metadata": {},
     "output_type": "execute_result"
    }
   ],
   "source": [
    "a"
   ]
  },
  {
   "cell_type": "code",
   "execution_count": 11,
   "id": "62d2df97-1b0b-46b0-9875-5b58b7ee7b64",
   "metadata": {},
   "outputs": [
    {
     "data": {
      "text/plain": [
       "2"
      ]
     },
     "execution_count": 11,
     "metadata": {},
     "output_type": "execute_result"
    }
   ],
   "source": [
    "b"
   ]
  },
  {
   "cell_type": "code",
   "execution_count": 12,
   "id": "1d457261-bed2-4a53-9ab9-7d182a87d644",
   "metadata": {},
   "outputs": [
    {
     "data": {
      "text/plain": [
       "[3, 4, 5]"
      ]
     },
     "execution_count": 12,
     "metadata": {},
     "output_type": "execute_result"
    }
   ],
   "source": [
    "rest"
   ]
  },
  {
   "cell_type": "markdown",
   "id": "efc34035-7780-4cf5-aa24-50a0729e21c8",
   "metadata": {},
   "source": [
    "### Tuple methods"
   ]
  },
  {
   "cell_type": "code",
   "execution_count": 13,
   "id": "6c413b16-2589-41db-bb8d-0c8ba480ec49",
   "metadata": {},
   "outputs": [],
   "source": [
    "a = 1,2,2,2,3,4,2"
   ]
  },
  {
   "cell_type": "code",
   "execution_count": 14,
   "id": "4c74070e-f9db-4d5a-a96c-b74cfa60d16f",
   "metadata": {},
   "outputs": [
    {
     "data": {
      "text/plain": [
       "4"
      ]
     },
     "execution_count": 14,
     "metadata": {},
     "output_type": "execute_result"
    }
   ],
   "source": [
    "a.count(2)"
   ]
  },
  {
   "cell_type": "markdown",
   "id": "41ff439a-111c-48c5-b10d-92e2a297eeb3",
   "metadata": {
    "jp-MarkdownHeadingCollapsed": true
   },
   "source": [
    "# List"
   ]
  },
  {
   "cell_type": "markdown",
   "id": "791fe759-a60b-4759-93c2-4a504d6a8129",
   "metadata": {},
   "source": [
    "### range"
   ]
  },
  {
   "cell_type": "code",
   "execution_count": 15,
   "id": "2d1c75e7-5c68-4dd4-80ef-9c58215757de",
   "metadata": {},
   "outputs": [],
   "source": [
    "gen = range(10)"
   ]
  },
  {
   "cell_type": "code",
   "execution_count": 16,
   "id": "7af5e7d8-1d76-4381-8cda-00bb4ac71766",
   "metadata": {},
   "outputs": [
    {
     "data": {
      "text/plain": [
       "range(0, 10)"
      ]
     },
     "execution_count": 16,
     "metadata": {},
     "output_type": "execute_result"
    }
   ],
   "source": [
    "gen"
   ]
  },
  {
   "cell_type": "code",
   "execution_count": 17,
   "id": "d5179d09-84eb-4e9d-9ec6-9b4255306a79",
   "metadata": {},
   "outputs": [
    {
     "data": {
      "text/plain": [
       "[0, 1, 2, 3, 4, 5, 6, 7, 8, 9]"
      ]
     },
     "execution_count": 17,
     "metadata": {},
     "output_type": "execute_result"
    }
   ],
   "source": [
    "list(gen)"
   ]
  },
  {
   "cell_type": "markdown",
   "id": "7a30c1da-4986-4dfa-be9f-1aba02c2aa9b",
   "metadata": {},
   "source": [
    "### Adding and removing elements"
   ]
  },
  {
   "cell_type": "code",
   "execution_count": 23,
   "id": "8a520ecb-3c5a-441e-9e34-2c5493f2a91c",
   "metadata": {},
   "outputs": [],
   "source": [
    "a_list = [\"Hung-Chi\", \"pencil\", \"eraser\"]"
   ]
  },
  {
   "cell_type": "code",
   "execution_count": 24,
   "id": "099a1c61-763b-441e-b2a0-7a36d97acfe6",
   "metadata": {},
   "outputs": [
    {
     "data": {
      "text/plain": [
       "['Hung-Chi', 'pencil', 'eraser', 'foo']"
      ]
     },
     "execution_count": 24,
     "metadata": {},
     "output_type": "execute_result"
    }
   ],
   "source": [
    "a_list.append(\"foo\")\n",
    "a_list"
   ]
  },
  {
   "cell_type": "code",
   "execution_count": 25,
   "id": "8368195a-b062-4f1c-8040-5c4669d85339",
   "metadata": {},
   "outputs": [
    {
     "data": {
      "text/plain": [
       "['Hung-Chi', 'pencil', 'red', 'eraser', 'foo']"
      ]
     },
     "execution_count": 25,
     "metadata": {},
     "output_type": "execute_result"
    }
   ],
   "source": [
    "a_list.insert(2, \"red\")\n",
    "a_list"
   ]
  },
  {
   "cell_type": "code",
   "execution_count": 26,
   "id": "5930e9aa-6e75-4548-9e1b-93e40719580e",
   "metadata": {},
   "outputs": [
    {
     "data": {
      "text/plain": [
       "['Hung-Chi', 'red', 'eraser', 'foo']"
      ]
     },
     "execution_count": 26,
     "metadata": {},
     "output_type": "execute_result"
    }
   ],
   "source": [
    "a_list.pop(1)\n",
    "a_list"
   ]
  },
  {
   "cell_type": "code",
   "execution_count": 27,
   "id": "8640e619-c72e-41cf-901a-b55154011251",
   "metadata": {},
   "outputs": [
    {
     "data": {
      "text/plain": [
       "['Hung-Chi', 'red', 'foo']"
      ]
     },
     "execution_count": 27,
     "metadata": {},
     "output_type": "execute_result"
    }
   ],
   "source": [
    "a_list.remove(\"eraser\")\n",
    "a_list"
   ]
  },
  {
   "cell_type": "markdown",
   "id": "63790b06-07a2-4279-9531-9eb111440808",
   "metadata": {},
   "source": [
    "### Concatenating and combining lists"
   ]
  },
  {
   "cell_type": "code",
   "execution_count": 28,
   "id": "79a571cd-dd4c-4154-8633-0ea1a66a2837",
   "metadata": {},
   "outputs": [
    {
     "data": {
      "text/plain": [
       "[4, None, 'foo', 7, 8, (2, 3)]"
      ]
     },
     "execution_count": 28,
     "metadata": {},
     "output_type": "execute_result"
    }
   ],
   "source": [
    "[4,None,\"foo\"] + [7,8,(2,3)]"
   ]
  },
  {
   "cell_type": "code",
   "execution_count": 29,
   "id": "cee07068-fd34-4ce0-8e93-5f309a913dba",
   "metadata": {},
   "outputs": [
    {
     "data": {
      "text/plain": [
       "[4, None, 'foo', 7, 8, (2, 3)]"
      ]
     },
     "execution_count": 29,
     "metadata": {},
     "output_type": "execute_result"
    }
   ],
   "source": [
    "x = [4,None,\"foo\"]\n",
    "x.extend([7,8,(2,3)])\n",
    "x"
   ]
  },
  {
   "cell_type": "markdown",
   "id": "efe88e2a-56c5-433d-941a-67d88d0467ef",
   "metadata": {},
   "source": [
    "\\*extend is much much more preferable than addition"
   ]
  },
  {
   "cell_type": "markdown",
   "id": "cd5e7a7c-4a44-4b43-b154-8e0a07f87362",
   "metadata": {},
   "source": [
    "### In-place Sorting"
   ]
  },
  {
   "cell_type": "code",
   "execution_count": 31,
   "id": "38219ffd-ead5-43e9-bfe3-19ac81bc7b2e",
   "metadata": {},
   "outputs": [
    {
     "data": {
      "text/plain": [
       "[1, 2, 3, 5, 7]"
      ]
     },
     "execution_count": 31,
     "metadata": {},
     "output_type": "execute_result"
    }
   ],
   "source": [
    "a = [7,2,5,1,3]\n",
    "a.sort()\n",
    "a"
   ]
  },
  {
   "cell_type": "code",
   "execution_count": 32,
   "id": "d83c5207-48cf-48cd-99d6-a055b880b47f",
   "metadata": {},
   "outputs": [
    {
     "data": {
      "text/plain": [
       "['He', 'saw', 'six', 'small', 'foxes']"
      ]
     },
     "execution_count": 32,
     "metadata": {},
     "output_type": "execute_result"
    }
   ],
   "source": [
    "b = [\"saw\", \"small\", \"He\", \"foxes\", \"six\"]\n",
    "b.sort(key=len)\n",
    "b"
   ]
  },
  {
   "cell_type": "markdown",
   "id": "12ef1e6e-99e2-442f-967c-11127e70a9e1",
   "metadata": {
    "jp-MarkdownHeadingCollapsed": true
   },
   "source": [
    "# Dictionary"
   ]
  },
  {
   "cell_type": "code",
   "execution_count": 46,
   "id": "33da7465-b815-4b76-9e2b-f2407b4fac81",
   "metadata": {},
   "outputs": [
    {
     "data": {
      "text/plain": [
       "{'a': 'some value', 'b': [1, 2, 3, 4], 7: (1, 2, 3)}"
      ]
     },
     "execution_count": 46,
     "metadata": {},
     "output_type": "execute_result"
    }
   ],
   "source": [
    "d1 = {\"a\": \"some value\", \"b\": [1,2,3,4], 7: (1,2,3)}\n",
    "d1"
   ]
  },
  {
   "cell_type": "markdown",
   "id": "98daaba2-33b6-43f8-a072-c9cd3be56172",
   "metadata": {},
   "source": [
    "### Deletion"
   ]
  },
  {
   "cell_type": "code",
   "execution_count": 47,
   "id": "e9ef3b39-86e8-459e-97cd-80f07b7a9482",
   "metadata": {},
   "outputs": [
    {
     "data": {
      "text/plain": [
       "{'a': 'some value', 7: (1, 2, 3)}"
      ]
     },
     "execution_count": 47,
     "metadata": {},
     "output_type": "execute_result"
    }
   ],
   "source": [
    "d1 = d1.copy()\n",
    "del d1[\"b\"]\n",
    "d1"
   ]
  },
  {
   "cell_type": "code",
   "execution_count": 43,
   "id": "50fe7104-e404-48fc-88ce-a9cb945a308c",
   "metadata": {},
   "outputs": [
    {
     "data": {
      "text/plain": [
       "(1, 2, 3)"
      ]
     },
     "execution_count": 43,
     "metadata": {},
     "output_type": "execute_result"
    }
   ],
   "source": [
    "ret = d1.pop(7)\n",
    "ret"
   ]
  },
  {
   "cell_type": "code",
   "execution_count": 44,
   "id": "3f96e9d0-19ab-457d-abcc-b75e15717adb",
   "metadata": {},
   "outputs": [
    {
     "data": {
      "text/plain": [
       "{'a': 'some value'}"
      ]
     },
     "execution_count": 44,
     "metadata": {},
     "output_type": "execute_result"
    }
   ],
   "source": [
    "d1"
   ]
  },
  {
   "cell_type": "code",
   "execution_count": 49,
   "id": "ae9bc173-b749-4470-b3bd-43acc75b9f68",
   "metadata": {},
   "outputs": [
    {
     "data": {
      "text/plain": [
       "['a', 7]"
      ]
     },
     "execution_count": 49,
     "metadata": {},
     "output_type": "execute_result"
    }
   ],
   "source": [
    "list(d1) # list(d1.keys())"
   ]
  },
  {
   "cell_type": "code",
   "execution_count": 50,
   "id": "0f362eca-833d-46ad-920b-e38b82b7964e",
   "metadata": {},
   "outputs": [
    {
     "data": {
      "text/plain": [
       "['some value', (1, 2, 3)]"
      ]
     },
     "execution_count": 50,
     "metadata": {},
     "output_type": "execute_result"
    }
   ],
   "source": [
    "list(d1.values())"
   ]
  },
  {
   "cell_type": "code",
   "execution_count": 51,
   "id": "bd26372a-894c-4a35-bd05-6f1f9b6c67df",
   "metadata": {},
   "outputs": [
    {
     "data": {
      "text/plain": [
       "[('a', 'some value'), (7, (1, 2, 3))]"
      ]
     },
     "execution_count": 51,
     "metadata": {},
     "output_type": "execute_result"
    }
   ],
   "source": [
    "list(d1.items())"
   ]
  },
  {
   "cell_type": "markdown",
   "id": "ef0804d2-5cc3-452d-a67c-5a3aae22091d",
   "metadata": {},
   "source": [
    "### Merge one dictionary into another"
   ]
  },
  {
   "cell_type": "code",
   "execution_count": 52,
   "id": "694c1d44-85ff-4ffb-a9d3-e41ca7d4fdb0",
   "metadata": {},
   "outputs": [
    {
     "data": {
      "text/plain": [
       "{'a': 'some value', 7: (1, 2, 3), 'b': 'foo', 'c': 12}"
      ]
     },
     "execution_count": 52,
     "metadata": {},
     "output_type": "execute_result"
    }
   ],
   "source": [
    "d1.update({\"b\": \"foo\", \"c\": 12})\n",
    "d1"
   ]
  },
  {
   "cell_type": "markdown",
   "id": "5a04dab2-f520-4c65-9944-e95591373a33",
   "metadata": {},
   "source": [
    "### Creating dictionaires from sequences"
   ]
  },
  {
   "cell_type": "code",
   "execution_count": 58,
   "id": "602407b5-75fd-42eb-8232-c08e61921caf",
   "metadata": {},
   "outputs": [],
   "source": [
    "# mapping = {}\n",
    "# for key, value in zip(key_list, value_list):\n",
    "#     mapping[key] = value\n",
    "tuples = zip(range(5), reversed(range(5)))"
   ]
  },
  {
   "cell_type": "code",
   "execution_count": 59,
   "id": "f0090eee-3574-4f10-9c5c-e35956275078",
   "metadata": {},
   "outputs": [
    {
     "data": {
      "text/plain": [
       "{0: 4, 1: 3, 2: 2, 3: 1, 4: 0}"
      ]
     },
     "execution_count": 59,
     "metadata": {},
     "output_type": "execute_result"
    }
   ],
   "source": [
    "mapping = dict(tuples)\n",
    "mapping"
   ]
  },
  {
   "cell_type": "markdown",
   "id": "78377b48-a3e6-46de-a33c-284a71a0d69f",
   "metadata": {
    "jp-MarkdownHeadingCollapsed": true
   },
   "source": [
    "# Set"
   ]
  },
  {
   "cell_type": "code",
   "execution_count": 60,
   "id": "dd08e8c5-5735-490a-83a9-e04fb3719a6e",
   "metadata": {},
   "outputs": [
    {
     "data": {
      "text/plain": [
       "{1, 2, 3, 4, 5, 6, 7, 8}"
      ]
     },
     "execution_count": 60,
     "metadata": {},
     "output_type": "execute_result"
    }
   ],
   "source": [
    "a = {1,2,3,4,5}\n",
    "b = {3,4,5,6,7,8}\n",
    "a.union(b) # a | b"
   ]
  },
  {
   "cell_type": "markdown",
   "id": "2b86bf35-1c60-414c-8c5e-3f3f1c31301b",
   "metadata": {
    "jp-MarkdownHeadingCollapsed": true
   },
   "source": [
    "# File Handling"
   ]
  },
  {
   "cell_type": "code",
   "execution_count": 61,
   "id": "950045cc-780a-4c8c-a574-154e39ea2087",
   "metadata": {},
   "outputs": [],
   "source": [
    "path = \"pydata-book-3rd-edition/examples/segismundo.txt\""
   ]
  },
  {
   "cell_type": "code",
   "execution_count": 63,
   "id": "c0fd20f2-5f94-4c0e-ae07-fd18a403fb3e",
   "metadata": {},
   "outputs": [
    {
     "name": "stdout",
     "output_type": "stream",
     "text": [
      "Sueña el rico en su riqueza,\n",
      "\n",
      "que más cuidados le ofrece;\n",
      "\n",
      "\n",
      "\n",
      "sueña el pobre que padece\n",
      "\n",
      "su miseria y su pobreza;\n",
      "\n",
      "\n",
      "\n",
      "sueña el que a medrar empieza,\n",
      "\n",
      "sueña el que afana y pretende,\n",
      "\n",
      "sueña el que agravia y ofende,\n",
      "\n",
      "\n",
      "\n",
      "y en el mundo, en conclusión,\n",
      "\n",
      "todos sueñan lo que son,\n",
      "\n",
      "aunque ninguno lo entiende.\n",
      "\n",
      "\n",
      "\n"
     ]
    }
   ],
   "source": [
    "f = open(path, encoding = \"utf-8\")\n",
    "for line in f:\n",
    "    print(line)"
   ]
  },
  {
   "cell_type": "code",
   "execution_count": 64,
   "id": "ecc27f22-e195-4329-917b-e09e588d0917",
   "metadata": {},
   "outputs": [
    {
     "data": {
      "text/plain": [
       "['Sueña el rico en su riqueza,',\n",
       " 'que más cuidados le ofrece;',\n",
       " '',\n",
       " 'sueña el pobre que padece',\n",
       " 'su miseria y su pobreza;',\n",
       " '',\n",
       " 'sueña el que a medrar empieza,',\n",
       " 'sueña el que afana y pretende,',\n",
       " 'sueña el que agravia y ofende,',\n",
       " '',\n",
       " 'y en el mundo, en conclusión,',\n",
       " 'todos sueñan lo que son,',\n",
       " 'aunque ninguno lo entiende.',\n",
       " '']"
      ]
     },
     "execution_count": 64,
     "metadata": {},
     "output_type": "execute_result"
    }
   ],
   "source": [
    "lines = [x.rstrip() for x in open(path, encoding=\"utf-8\")]\n",
    "lines"
   ]
  },
  {
   "cell_type": "code",
   "execution_count": 65,
   "id": "045a1287-5263-418e-9acb-a428995da745",
   "metadata": {},
   "outputs": [],
   "source": [
    "f.close()"
   ]
  },
  {
   "cell_type": "code",
   "execution_count": 66,
   "id": "b0a1aff7-e404-4d12-8202-77b6be809178",
   "metadata": {},
   "outputs": [
    {
     "data": {
      "text/plain": [
       "['Sueña el rico en su riqueza,',\n",
       " 'que más cuidados le ofrece;',\n",
       " '',\n",
       " 'sueña el pobre que padece',\n",
       " 'su miseria y su pobreza;',\n",
       " '',\n",
       " 'sueña el que a medrar empieza,',\n",
       " 'sueña el que afana y pretende,',\n",
       " 'sueña el que agravia y ofende,',\n",
       " '',\n",
       " 'y en el mundo, en conclusión,',\n",
       " 'todos sueñan lo que son,',\n",
       " 'aunque ninguno lo entiende.',\n",
       " '']"
      ]
     },
     "execution_count": 66,
     "metadata": {},
     "output_type": "execute_result"
    }
   ],
   "source": [
    "# An easier way\n",
    "with open(path, encoding=\"utf-8\") as f:\n",
    "    lines = [x.strip() for x in f]\n",
    "\n",
    "lines"
   ]
  },
  {
   "cell_type": "code",
   "execution_count": 68,
   "id": "889373c2-fa49-462a-b256-160562be606b",
   "metadata": {},
   "outputs": [
    {
     "data": {
      "text/plain": [
       "['Sueña el rico en su riqueza,',\n",
       " 'que más cuidados le ofrece;',\n",
       " '',\n",
       " 'sueña el pobre que padece',\n",
       " 'su miseria y su pobreza;',\n",
       " '',\n",
       " 'sueña el que a medrar empieza,',\n",
       " 'sueña el que afana y pretende,',\n",
       " 'sueña el que agravia y ofende,',\n",
       " '',\n",
       " 'y en el mundo, en conclusión,',\n",
       " 'todos sueñan lo que son,',\n",
       " 'aunque ninguno lo entiende.',\n",
       " '']"
      ]
     },
     "execution_count": 68,
     "metadata": {},
     "output_type": "execute_result"
    }
   ],
   "source": [
    "with open(path, encoding=\"utf-8\") as f:\n",
    "    lines = [x.strip() for x in f]\n",
    "\n",
    "lines"
   ]
  },
  {
   "cell_type": "markdown",
   "id": "9f771ec2-f0d0-4fae-9058-bbada64c3009",
   "metadata": {},
   "source": [
    "### Readable files methods"
   ]
  },
  {
   "cell_type": "code",
   "execution_count": 71,
   "id": "c4b3d411-4d11-4a8b-bf38-f944cbef07dc",
   "metadata": {},
   "outputs": [
    {
     "data": {
      "text/plain": [
       "'Sueña el r'"
      ]
     },
     "execution_count": 71,
     "metadata": {},
     "output_type": "execute_result"
    }
   ],
   "source": [
    "f1 = open(path, encoding=\"utf-8\")\n",
    "f1.read(10)"
   ]
  },
  {
   "cell_type": "code",
   "execution_count": 72,
   "id": "4a45945f-f4bb-4753-a564-60628eadac4f",
   "metadata": {},
   "outputs": [
    {
     "data": {
      "text/plain": [
       "b'Sue\\xc3\\xb1a el '"
      ]
     },
     "execution_count": 72,
     "metadata": {},
     "output_type": "execute_result"
    }
   ],
   "source": [
    "f2 = open(path, mode=\"rb\")\n",
    "f2.read(10) # the first ten bytes"
   ]
  },
  {
   "cell_type": "code",
   "execution_count": 74,
   "id": "29a140e0-bfaa-4afb-922f-2a0bbafd8241",
   "metadata": {},
   "outputs": [
    {
     "data": {
      "text/plain": [
       "11"
      ]
     },
     "execution_count": 74,
     "metadata": {},
     "output_type": "execute_result"
    }
   ],
   "source": [
    "f1.tell()"
   ]
  },
  {
   "cell_type": "code",
   "execution_count": 75,
   "id": "7f21923d-7129-40fd-9e05-10cc71273de0",
   "metadata": {},
   "outputs": [
    {
     "data": {
      "text/plain": [
       "10"
      ]
     },
     "execution_count": 75,
     "metadata": {},
     "output_type": "execute_result"
    }
   ],
   "source": [
    "f2.tell()"
   ]
  },
  {
   "cell_type": "code",
   "execution_count": 76,
   "id": "66fbe1a1-42b5-4ab3-8d8d-509e4d3401a3",
   "metadata": {},
   "outputs": [
    {
     "data": {
      "text/plain": [
       "'utf-8'"
      ]
     },
     "execution_count": 76,
     "metadata": {},
     "output_type": "execute_result"
    }
   ],
   "source": [
    "import sys\n",
    "sys.getdefaultencoding()"
   ]
  },
  {
   "cell_type": "code",
   "execution_count": 77,
   "id": "2c024279-4a9f-423a-bbe3-099edbc9986a",
   "metadata": {},
   "outputs": [
    {
     "data": {
      "text/plain": [
       "3"
      ]
     },
     "execution_count": 77,
     "metadata": {},
     "output_type": "execute_result"
    }
   ],
   "source": [
    "f1.seek(3)"
   ]
  },
  {
   "cell_type": "code",
   "execution_count": 78,
   "id": "a70aaf3c-2ac2-4db2-9d94-7bcd7d53c1fd",
   "metadata": {},
   "outputs": [
    {
     "data": {
      "text/plain": [
       "'ñ'"
      ]
     },
     "execution_count": 78,
     "metadata": {},
     "output_type": "execute_result"
    }
   ],
   "source": [
    "f1.read(1)"
   ]
  },
  {
   "cell_type": "code",
   "execution_count": 79,
   "id": "d6afbf98-99aa-4c5c-b11f-5547060cf195",
   "metadata": {},
   "outputs": [
    {
     "data": {
      "text/plain": [
       "5"
      ]
     },
     "execution_count": 79,
     "metadata": {},
     "output_type": "execute_result"
    }
   ],
   "source": [
    "f1.tell()"
   ]
  },
  {
   "cell_type": "code",
   "execution_count": 80,
   "id": "645a642d-2b9b-4457-afda-d3fcf105c107",
   "metadata": {},
   "outputs": [],
   "source": [
    "f1.close()\n",
    "f2.close()"
   ]
  },
  {
   "cell_type": "markdown",
   "id": "1e90688c-5218-41e9-a0c6-cb2a76c2f67f",
   "metadata": {},
   "source": [
    "### Write files"
   ]
  },
  {
   "cell_type": "code",
   "execution_count": 89,
   "id": "1f95aa09-32a5-40b3-ad6b-0db2e735a4e7",
   "metadata": {},
   "outputs": [],
   "source": [
    "with open(\"tmp.txt\", mode=\"w\") as handle:\n",
    "    with open(path) as source:\n",
    "        handle.writelines(x for x in source if len(x) > 1)"
   ]
  },
  {
   "cell_type": "code",
   "execution_count": 93,
   "id": "1ddd054d-e7ad-4241-84ba-826332d9d14b",
   "metadata": {},
   "outputs": [
    {
     "data": {
      "text/plain": [
       "['Sueña el rico en su riqueza,\\n',\n",
       " 'que más cuidados le ofrece;\\n',\n",
       " 'sueña el pobre que padece\\n',\n",
       " 'su miseria y su pobreza;\\n',\n",
       " 'sueña el que a medrar empieza,\\n',\n",
       " 'sueña el que afana y pretende,\\n',\n",
       " 'sueña el que agravia y ofende,\\n',\n",
       " 'y en el mundo, en conclusión,\\n',\n",
       " 'todos sueñan lo que son,\\n',\n",
       " 'aunque ninguno lo entiende.\\n']"
      ]
     },
     "execution_count": 93,
     "metadata": {},
     "output_type": "execute_result"
    }
   ],
   "source": [
    "with open(\"tmp.txt\", encoding=\"utf-8\") as f:\n",
    "    lines = f.readlines()\n",
    "lines"
   ]
  },
  {
   "cell_type": "code",
   "execution_count": null,
   "id": "f6848b55-4669-4aaa-a0ae-deb329401c69",
   "metadata": {},
   "outputs": [],
   "source": []
  }
 ],
 "metadata": {
  "kernelspec": {
   "display_name": "Python 3 (ipykernel)",
   "language": "python",
   "name": "python3"
  },
  "language_info": {
   "codemirror_mode": {
    "name": "ipython",
    "version": 3
   },
   "file_extension": ".py",
   "mimetype": "text/x-python",
   "name": "python",
   "nbconvert_exporter": "python",
   "pygments_lexer": "ipython3",
   "version": "3.13.3"
  }
 },
 "nbformat": 4,
 "nbformat_minor": 5
}
